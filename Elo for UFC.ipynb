{
 "cells": [
  {
   "cell_type": "markdown",
   "metadata": {},
   "source": [
    "za podatke https://github.com/WarrierRajeev/UFC-Predictions <br>\n",
    "elo https://en.wikipedia.org/wiki/Elo_rating_system <br>\n",
    "postojeći elo https://github.com/infinitelytight/mma-elo <br>\n",
    "scraping https://realpython.com/beautiful-soup-web-scraper-python/\n"
   ]
  },
  {
   "cell_type": "markdown",
   "metadata": {},
   "source": [
    "- mozes scrapenja opisati\n",
    "- inputaj si podatke\n",
    "- nacrtaj neke grafove\n",
    "- objasni elo\n",
    "- primjeni elo neki svoj/napravljen\n",
    "- objasni sto je submission sto udarac\n",
    "- kritika elo sistema \n",
    "- preporuka novog\n",
    "- chessboxing"
   ]
  },
  {
   "cell_type": "code",
   "execution_count": 1,
   "metadata": {},
   "outputs": [],
   "source": [
    "import pandas as pd\n",
    "import numpy as np\n",
    "import operator"
   ]
  },
  {
   "cell_type": "code",
   "execution_count": 2,
   "metadata": {},
   "outputs": [],
   "source": [
    "fighter_details = pd.read_csv(\"fighter_details.csv\", encoding='utf-8')[['fighter_name', 'Weight']]"
   ]
  },
  {
   "cell_type": "code",
   "execution_count": 3,
   "metadata": {
    "scrolled": true
   },
   "outputs": [],
   "source": [
    "fighter_details = fighter_details.set_index('fighter_name')\n",
    "fighter_details.insert(1, \"Elo rating\", 1500)"
   ]
  },
  {
   "cell_type": "code",
   "execution_count": 4,
   "metadata": {},
   "outputs": [
    {
     "data": {
      "text/html": [
       "<div>\n",
       "<style scoped>\n",
       "    .dataframe tbody tr th:only-of-type {\n",
       "        vertical-align: middle;\n",
       "    }\n",
       "\n",
       "    .dataframe tbody tr th {\n",
       "        vertical-align: top;\n",
       "    }\n",
       "\n",
       "    .dataframe thead th {\n",
       "        text-align: right;\n",
       "    }\n",
       "</style>\n",
       "<table border=\"1\" class=\"dataframe\">\n",
       "  <thead>\n",
       "    <tr style=\"text-align: right;\">\n",
       "      <th></th>\n",
       "      <th>Weight</th>\n",
       "      <th>Elo rating</th>\n",
       "    </tr>\n",
       "    <tr>\n",
       "      <th>fighter_name</th>\n",
       "      <th></th>\n",
       "      <th></th>\n",
       "    </tr>\n",
       "  </thead>\n",
       "  <tbody>\n",
       "    <tr>\n",
       "      <th>Ricardo Abreu</th>\n",
       "      <td>185 lbs.</td>\n",
       "      <td>1500</td>\n",
       "    </tr>\n",
       "    <tr>\n",
       "      <th>Papy Abedi</th>\n",
       "      <td>185 lbs.</td>\n",
       "      <td>1500</td>\n",
       "    </tr>\n",
       "    <tr>\n",
       "      <th>Klidson Abreu</th>\n",
       "      <td>205 lbs.</td>\n",
       "      <td>1500</td>\n",
       "    </tr>\n",
       "    <tr>\n",
       "      <th>Shamil Abdurakhimov</th>\n",
       "      <td>235 lbs.</td>\n",
       "      <td>1500</td>\n",
       "    </tr>\n",
       "    <tr>\n",
       "      <th>Daniel Acacio</th>\n",
       "      <td>180 lbs.</td>\n",
       "      <td>1500</td>\n",
       "    </tr>\n",
       "  </tbody>\n",
       "</table>\n",
       "</div>"
      ],
      "text/plain": [
       "                       Weight  Elo rating\n",
       "fighter_name                             \n",
       "Ricardo Abreu        185 lbs.        1500\n",
       "Papy Abedi           185 lbs.        1500\n",
       "Klidson Abreu        205 lbs.        1500\n",
       "Shamil Abdurakhimov  235 lbs.        1500\n",
       "Daniel Acacio        180 lbs.        1500"
      ]
     },
     "execution_count": 4,
     "metadata": {},
     "output_type": "execute_result"
    }
   ],
   "source": [
    "fighter_details.head()"
   ]
  },
  {
   "cell_type": "code",
   "execution_count": 5,
   "metadata": {},
   "outputs": [],
   "source": [
    "total_fight_data = pd.read_csv(\"total_fight_data.csv\", delimiter=\";\", \n",
    "                               encoding='utf-8')[[\"R_fighter\", \"B_fighter\", \"win_by\", \n",
    "                                                  \"date\", \"Fight_type\", \"Winner\"]]"
   ]
  },
  {
   "cell_type": "code",
   "execution_count": 6,
   "metadata": {},
   "outputs": [
    {
     "data": {
      "text/html": [
       "<div>\n",
       "<style scoped>\n",
       "    .dataframe tbody tr th:only-of-type {\n",
       "        vertical-align: middle;\n",
       "    }\n",
       "\n",
       "    .dataframe tbody tr th {\n",
       "        vertical-align: top;\n",
       "    }\n",
       "\n",
       "    .dataframe thead th {\n",
       "        text-align: right;\n",
       "    }\n",
       "</style>\n",
       "<table border=\"1\" class=\"dataframe\">\n",
       "  <thead>\n",
       "    <tr style=\"text-align: right;\">\n",
       "      <th></th>\n",
       "      <th>R_fighter</th>\n",
       "      <th>B_fighter</th>\n",
       "      <th>win_by</th>\n",
       "      <th>date</th>\n",
       "      <th>Fight_type</th>\n",
       "      <th>Winner</th>\n",
       "    </tr>\n",
       "  </thead>\n",
       "  <tbody>\n",
       "    <tr>\n",
       "      <th>0</th>\n",
       "      <td>Sean O'Malley</td>\n",
       "      <td>Thomas Almeida</td>\n",
       "      <td>KO/TKO</td>\n",
       "      <td>March 27, 2021</td>\n",
       "      <td>Bantamweight Bout</td>\n",
       "      <td>Sean O'Malley</td>\n",
       "    </tr>\n",
       "    <tr>\n",
       "      <th>1</th>\n",
       "      <td>Jared Gooden</td>\n",
       "      <td>Abubakar Nurmagomedov</td>\n",
       "      <td>Decision - Unanimous</td>\n",
       "      <td>March 27, 2021</td>\n",
       "      <td>Welterweight Bout</td>\n",
       "      <td>Abubakar Nurmagomedov</td>\n",
       "    </tr>\n",
       "    <tr>\n",
       "      <th>2</th>\n",
       "      <td>Alonzo Menifield</td>\n",
       "      <td>Fabio Cherant</td>\n",
       "      <td>Submission</td>\n",
       "      <td>March 27, 2021</td>\n",
       "      <td>Light Heavyweight Bout</td>\n",
       "      <td>Alonzo Menifield</td>\n",
       "    </tr>\n",
       "    <tr>\n",
       "      <th>3</th>\n",
       "      <td>Stipe Miocic</td>\n",
       "      <td>Francis Ngannou</td>\n",
       "      <td>KO/TKO</td>\n",
       "      <td>March 27, 2021</td>\n",
       "      <td>UFC Heavyweight Title Bout</td>\n",
       "      <td>Francis Ngannou</td>\n",
       "    </tr>\n",
       "    <tr>\n",
       "      <th>4</th>\n",
       "      <td>Shane Young</td>\n",
       "      <td>Omar Morales</td>\n",
       "      <td>Decision - Unanimous</td>\n",
       "      <td>March 27, 2021</td>\n",
       "      <td>Featherweight Bout</td>\n",
       "      <td>Omar Morales</td>\n",
       "    </tr>\n",
       "  </tbody>\n",
       "</table>\n",
       "</div>"
      ],
      "text/plain": [
       "          R_fighter              B_fighter                win_by  \\\n",
       "0     Sean O'Malley         Thomas Almeida                KO/TKO   \n",
       "1      Jared Gooden  Abubakar Nurmagomedov  Decision - Unanimous   \n",
       "2  Alonzo Menifield          Fabio Cherant            Submission   \n",
       "3      Stipe Miocic        Francis Ngannou                KO/TKO   \n",
       "4       Shane Young           Omar Morales  Decision - Unanimous   \n",
       "\n",
       "             date                  Fight_type                 Winner  \n",
       "0  March 27, 2021           Bantamweight Bout          Sean O'Malley  \n",
       "1  March 27, 2021           Welterweight Bout  Abubakar Nurmagomedov  \n",
       "2  March 27, 2021      Light Heavyweight Bout       Alonzo Menifield  \n",
       "3  March 27, 2021  UFC Heavyweight Title Bout        Francis Ngannou  \n",
       "4  March 27, 2021          Featherweight Bout           Omar Morales  "
      ]
     },
     "execution_count": 6,
     "metadata": {},
     "output_type": "execute_result"
    }
   ],
   "source": [
    "total_fight_data.head()"
   ]
  },
  {
   "cell_type": "code",
   "execution_count": 7,
   "metadata": {},
   "outputs": [
    {
     "data": {
      "text/html": [
       "<div>\n",
       "<style scoped>\n",
       "    .dataframe tbody tr th:only-of-type {\n",
       "        vertical-align: middle;\n",
       "    }\n",
       "\n",
       "    .dataframe tbody tr th {\n",
       "        vertical-align: top;\n",
       "    }\n",
       "\n",
       "    .dataframe thead th {\n",
       "        text-align: right;\n",
       "    }\n",
       "</style>\n",
       "<table border=\"1\" class=\"dataframe\">\n",
       "  <thead>\n",
       "    <tr style=\"text-align: right;\">\n",
       "      <th></th>\n",
       "      <th>R_fighter</th>\n",
       "      <th>B_fighter</th>\n",
       "      <th>win_by</th>\n",
       "      <th>date</th>\n",
       "      <th>Fight_type</th>\n",
       "      <th>Winner</th>\n",
       "    </tr>\n",
       "  </thead>\n",
       "  <tbody>\n",
       "    <tr>\n",
       "      <th>0</th>\n",
       "      <td>Sean O'Malley</td>\n",
       "      <td>Thomas Almeida</td>\n",
       "      <td>KO/TKO</td>\n",
       "      <td>March 27, 2021</td>\n",
       "      <td>Bantamweight Bout</td>\n",
       "      <td>Sean O'Malley</td>\n",
       "    </tr>\n",
       "    <tr>\n",
       "      <th>1</th>\n",
       "      <td>Jared Gooden</td>\n",
       "      <td>Abubakar Nurmagomedov</td>\n",
       "      <td>Decision - Unanimous</td>\n",
       "      <td>March 27, 2021</td>\n",
       "      <td>Welterweight Bout</td>\n",
       "      <td>Abubakar Nurmagomedov</td>\n",
       "    </tr>\n",
       "    <tr>\n",
       "      <th>2</th>\n",
       "      <td>Alonzo Menifield</td>\n",
       "      <td>Fabio Cherant</td>\n",
       "      <td>Submission</td>\n",
       "      <td>March 27, 2021</td>\n",
       "      <td>Light Heavyweight Bout</td>\n",
       "      <td>Alonzo Menifield</td>\n",
       "    </tr>\n",
       "    <tr>\n",
       "      <th>3</th>\n",
       "      <td>Stipe Miocic</td>\n",
       "      <td>Francis Ngannou</td>\n",
       "      <td>KO/TKO</td>\n",
       "      <td>March 27, 2021</td>\n",
       "      <td>UFC Heavyweight Title Bout</td>\n",
       "      <td>Francis Ngannou</td>\n",
       "    </tr>\n",
       "    <tr>\n",
       "      <th>4</th>\n",
       "      <td>Shane Young</td>\n",
       "      <td>Omar Morales</td>\n",
       "      <td>Decision - Unanimous</td>\n",
       "      <td>March 27, 2021</td>\n",
       "      <td>Featherweight Bout</td>\n",
       "      <td>Omar Morales</td>\n",
       "    </tr>\n",
       "  </tbody>\n",
       "</table>\n",
       "</div>"
      ],
      "text/plain": [
       "          R_fighter              B_fighter                win_by  \\\n",
       "0     Sean O'Malley         Thomas Almeida                KO/TKO   \n",
       "1      Jared Gooden  Abubakar Nurmagomedov  Decision - Unanimous   \n",
       "2  Alonzo Menifield          Fabio Cherant            Submission   \n",
       "3      Stipe Miocic        Francis Ngannou                KO/TKO   \n",
       "4       Shane Young           Omar Morales  Decision - Unanimous   \n",
       "\n",
       "             date                  Fight_type                 Winner  \n",
       "0  March 27, 2021           Bantamweight Bout          Sean O'Malley  \n",
       "1  March 27, 2021           Welterweight Bout  Abubakar Nurmagomedov  \n",
       "2  March 27, 2021      Light Heavyweight Bout       Alonzo Menifield  \n",
       "3  March 27, 2021  UFC Heavyweight Title Bout        Francis Ngannou  \n",
       "4  March 27, 2021          Featherweight Bout           Omar Morales  "
      ]
     },
     "execution_count": 7,
     "metadata": {},
     "output_type": "execute_result"
    }
   ],
   "source": [
    "total_fight_data.head()"
   ]
  },
  {
   "cell_type": "code",
   "execution_count": 8,
   "metadata": {},
   "outputs": [],
   "source": [
    "total_fight_data[\"date\"] = pd.to_datetime(total_fight_data[\"date\"], format='%B %d, %Y')"
   ]
  },
  {
   "cell_type": "code",
   "execution_count": 9,
   "metadata": {},
   "outputs": [],
   "source": [
    "total_fight_data = total_fight_data.sort_values(by = [\"date\"])"
   ]
  },
  {
   "cell_type": "code",
   "execution_count": 10,
   "metadata": {},
   "outputs": [
    {
     "data": {
      "text/html": [
       "<div>\n",
       "<style scoped>\n",
       "    .dataframe tbody tr th:only-of-type {\n",
       "        vertical-align: middle;\n",
       "    }\n",
       "\n",
       "    .dataframe tbody tr th {\n",
       "        vertical-align: top;\n",
       "    }\n",
       "\n",
       "    .dataframe thead th {\n",
       "        text-align: right;\n",
       "    }\n",
       "</style>\n",
       "<table border=\"1\" class=\"dataframe\">\n",
       "  <thead>\n",
       "    <tr style=\"text-align: right;\">\n",
       "      <th></th>\n",
       "      <th>Count</th>\n",
       "    </tr>\n",
       "    <tr>\n",
       "      <th>Winner</th>\n",
       "      <th></th>\n",
       "    </tr>\n",
       "  </thead>\n",
       "  <tbody>\n",
       "    <tr>\n",
       "      <th>Donald Cerrone</th>\n",
       "      <td>23</td>\n",
       "    </tr>\n",
       "    <tr>\n",
       "      <th>Demian Maia</th>\n",
       "      <td>22</td>\n",
       "    </tr>\n",
       "    <tr>\n",
       "      <th>Jim Miller</th>\n",
       "      <td>21</td>\n",
       "    </tr>\n",
       "    <tr>\n",
       "      <th>Jon Jones</th>\n",
       "      <td>20</td>\n",
       "    </tr>\n",
       "    <tr>\n",
       "      <th>Michael Bisping</th>\n",
       "      <td>20</td>\n",
       "    </tr>\n",
       "    <tr>\n",
       "      <th>Georges St-Pierre</th>\n",
       "      <td>20</td>\n",
       "    </tr>\n",
       "    <tr>\n",
       "      <th>Rafael Dos Anjos</th>\n",
       "      <td>19</td>\n",
       "    </tr>\n",
       "    <tr>\n",
       "      <th>Andrei Arlovski</th>\n",
       "      <td>19</td>\n",
       "    </tr>\n",
       "    <tr>\n",
       "      <th>Dustin Poirier</th>\n",
       "      <td>19</td>\n",
       "    </tr>\n",
       "    <tr>\n",
       "      <th>Diego Sanchez</th>\n",
       "      <td>19</td>\n",
       "    </tr>\n",
       "  </tbody>\n",
       "</table>\n",
       "</div>"
      ],
      "text/plain": [
       "                   Count\n",
       "Winner                  \n",
       "Donald Cerrone        23\n",
       "Demian Maia           22\n",
       "Jim Miller            21\n",
       "Jon Jones             20\n",
       "Michael Bisping       20\n",
       "Georges St-Pierre     20\n",
       "Rafael Dos Anjos      19\n",
       "Andrei Arlovski       19\n",
       "Dustin Poirier        19\n",
       "Diego Sanchez         19"
      ]
     },
     "execution_count": 10,
     "metadata": {},
     "output_type": "execute_result"
    }
   ],
   "source": [
    "most_wins = total_fight_data[[\"Winner\"]]\n",
    "most_wins.insert(1,\"Count\",0)\n",
    "most_wins.groupby(\"Winner\").count().sort_values(\"Count\", ascending = False).head(10)"
   ]
  },
  {
   "cell_type": "code",
   "execution_count": 11,
   "metadata": {},
   "outputs": [],
   "source": [
    "class Elo:\n",
    "    _win = 1\n",
    "    _draw = 0.5\n",
    "    _lose = 0\n",
    "    \n",
    "    def __init__(self, K = 32, beta = 400, title_scale = 1):\n",
    "        self._K = K\n",
    "        self._beta = beta\n",
    "        self._title_scale = title_scale\n",
    "    \n",
    "    def _real_result(self, red, blue, winner, is_title):\n",
    "        win = self._win\n",
    "        \n",
    "        if is_title:\n",
    "            win = self._title_scale * win\n",
    "            \n",
    "        if (red == winner):\n",
    "            return  win, self._lose\n",
    "        \n",
    "        elif (blue == winner):\n",
    "            return self._lose, win\n",
    "        \n",
    "        else:\n",
    "            return self._draw, self._draw\n",
    "        \n",
    "    def _expectation(self, a, b):\n",
    "        return 1 / (1 + 10**((b - a) / self._beta))\n",
    "        \n",
    "    def _expected_result(self, red_elo, blue_elo):\n",
    "        return self._expectation(red_elo, blue_elo), self._expectation(blue_elo, red_elo)\n",
    "    \n",
    "    def _new_elo_calc(self, a, res, expectation):\n",
    "        return a + self._K * ( res - expectation )\n",
    "    \n",
    "    def new_elo(self, red, blue, winner, is_title = False):\n",
    "        real_red, real_blue = self._real_result(red.name, blue.name, winner, is_title)\n",
    "        \n",
    "        expectation_red, expectation_blue = self._expected_result(red[\"Elo rating\"], blue[\"Elo rating\"])\n",
    "        \n",
    "        red = red.replace(red[\"Elo rating\"], self._new_elo_calc(red[\"Elo rating\"], real_red, expectation_red))\n",
    "        blue = blue.replace(blue[\"Elo rating\"], self._new_elo_calc(blue[\"Elo rating\"], real_blue, expectation_blue))\n",
    "        \n",
    "        return red, blue"
   ]
  },
  {
   "cell_type": "code",
   "execution_count": 12,
   "metadata": {},
   "outputs": [],
   "source": [
    "def test_elo(fighter_details, K, beta, title_scale = 1):\n",
    "    elo = Elo(K, beta, title_scale)\n",
    "    for _, row in total_fight_data.iterrows():\n",
    "        red_fighter = row[\"R_fighter\"]\n",
    "        blue_fighter = row[\"B_fighter\"]\n",
    "        winner = row[\"Winner\"]\n",
    "        red_fighter_data = fighter_details.loc[red_fighter]\n",
    "        blue_fighter_data = fighter_details.loc[blue_fighter]\n",
    "        fighter_details.loc[red_fighter], fighter_details.loc[blue_fighter] = elo.new_elo(red_fighter_data, \n",
    "                                                                                          blue_fighter_data, \n",
    "                                                                                          winner, \"Title\" in row[\"Fight_type\"])\n",
    "    print(fighter_details.sort_values(by = [\"Elo rating\"], ascending = False).head(10),\"\\n\\n\")\n",
    "    \n",
    "    print(fighter_details.sort_values(by = [\"Elo rating\"], ascending = True).head(10))"
   ]
  },
  {
   "cell_type": "code",
   "execution_count": 13,
   "metadata": {
    "scrolled": false
   },
   "outputs": [
    {
     "name": "stdout",
     "output_type": "stream",
     "text": [
      "                       Weight   Elo rating\n",
      "fighter_name                              \n",
      "Jon Jones            205 lbs.  1750.865399\n",
      "Georges St-Pierre    185 lbs.  1746.811470\n",
      "Kamaru Usman         170 lbs.  1698.754105\n",
      "Khabib Nurmagomedov  155 lbs.  1692.617958\n",
      "Dustin Poirier       155 lbs.  1679.520922\n",
      "Amanda Nunes         145 lbs.  1675.402825\n",
      "Demetrious Johnson   125 lbs.  1667.645159\n",
      "Max Holloway         145 lbs.  1660.156839\n",
      "Charles Oliveira     155 lbs.  1657.985935\n",
      "Tony Ferguson        155 lbs.  1657.838133 \n",
      "\n",
      "\n",
      "                     Weight   Elo rating\n",
      "fighter_name                            \n",
      "Joshua Burkman     170 lbs.  1420.046223\n",
      "Leonard Garcia     145 lbs.  1426.535658\n",
      "Naoyuki Kotani     155 lbs.  1428.211253\n",
      "Kailin Curran      115 lbs.  1428.293244\n",
      "Michihiro Omigawa  145 lbs.  1429.981257\n",
      "John Alessio       155 lbs.  1431.943023\n",
      "Phillipe Nover     145 lbs.  1432.817733\n",
      "Elvis Sinosic      205 lbs.  1434.620618\n",
      "Steve Cantwell     185 lbs.  1437.691428\n",
      "Vinicius Moreira   205 lbs.  1437.723177\n"
     ]
    }
   ],
   "source": [
    "fdets_copy = fighter_details.copy()\n",
    "test_elo(fdets_copy, 32, 400)"
   ]
  },
  {
   "cell_type": "code",
   "execution_count": 14,
   "metadata": {},
   "outputs": [
    {
     "name": "stdout",
     "output_type": "stream",
     "text": [
      "                         Weight   Elo rating\n",
      "fighter_name                                \n",
      "Georges St-Pierre      185 lbs.  1894.390090\n",
      "Kamaru Usman           170 lbs.  1891.069558\n",
      "Jon Jones              205 lbs.  1888.510240\n",
      "Khabib Nurmagomedov    155 lbs.  1870.053007\n",
      "Francis Ngannou        250 lbs.  1839.864866\n",
      "Alexander Volkanovski  145 lbs.  1832.897031\n",
      "Dustin Poirier         155 lbs.  1821.886374\n",
      "Stipe Miocic           240 lbs.  1820.010622\n",
      "Jan Blachowicz         205 lbs.  1814.779293\n",
      "Henry Cejudo           135 lbs.  1812.860372 \n",
      "\n",
      "\n",
      "                    Weight   Elo rating\n",
      "fighter_name                           \n",
      "Leonard Garcia    145 lbs.  1365.481251\n",
      "Vinicius Moreira  205 lbs.  1373.963174\n",
      "Steve Cantwell    185 lbs.  1375.232473\n",
      "Jodie Esquibel    115 lbs.  1376.960124\n",
      "Josh Grispi       145 lbs.  1379.492097\n",
      "Terrion Ware      135 lbs.  1380.681831\n",
      "Andy Ogle         145 lbs.  1380.973520\n",
      "Edgar Garcia      170 lbs.  1381.112259\n",
      "Naoyuki Kotani    155 lbs.  1381.310814\n",
      "Kailin Curran     115 lbs.  1384.725139\n"
     ]
    }
   ],
   "source": [
    "fdets_copy = fighter_details.copy()\n",
    "test_elo(fdets_copy, 72, 200)"
   ]
  },
  {
   "cell_type": "code",
   "execution_count": 15,
   "metadata": {},
   "outputs": [
    {
     "name": "stdout",
     "output_type": "stream",
     "text": [
      "                       Weight   Elo rating\n",
      "fighter_name                              \n",
      "Jon Jones            205 lbs.  2128.954708\n",
      "Georges St-Pierre    185 lbs.  2117.142486\n",
      "Demetrious Johnson   125 lbs.  1983.714839\n",
      "Amanda Nunes         145 lbs.  1939.057166\n",
      "Stipe Miocic         240 lbs.  1850.692782\n",
      "Kamaru Usman         170 lbs.  1847.881425\n",
      "Daniel Cormier       235 lbs.  1835.932047\n",
      "Khabib Nurmagomedov  155 lbs.  1820.563671\n",
      "Max Holloway         145 lbs.  1808.625394\n",
      "Anderson Silva       185 lbs.  1805.602680 \n",
      "\n",
      "\n",
      "                     Weight   Elo rating\n",
      "fighter_name                            \n",
      "Joshua Burkman     170 lbs.  1420.566537\n",
      "Leonard Garcia     145 lbs.  1426.543987\n",
      "Kailin Curran      115 lbs.  1428.293244\n",
      "Naoyuki Kotani     155 lbs.  1429.415980\n",
      "Michihiro Omigawa  145 lbs.  1429.987285\n",
      "Phillipe Nover     145 lbs.  1436.562319\n",
      "John Alessio       155 lbs.  1437.070439\n",
      "Steve Cantwell     185 lbs.  1437.696168\n",
      "Vinicius Moreira   205 lbs.  1437.851706\n",
      "Jodie Esquibel     115 lbs.  1437.965277\n"
     ]
    }
   ],
   "source": [
    "fdets_copy = fighter_details.copy()\n",
    "test_elo(fdets_copy, 32, 400, 2)"
   ]
  },
  {
   "cell_type": "code",
   "execution_count": 16,
   "metadata": {},
   "outputs": [
    {
     "name": "stdout",
     "output_type": "stream",
     "text": [
      "                        Weight   Elo rating\n",
      "fighter_name                               \n",
      "Jon Jones             205 lbs.  2793.036497\n",
      "Georges St-Pierre     185 lbs.  2756.831267\n",
      "Demetrious Johnson    125 lbs.  2440.694697\n",
      "Amanda Nunes          145 lbs.  2391.426949\n",
      "Stipe Miocic          240 lbs.  2282.366679\n",
      "Daniel Cormier        235 lbs.  2224.933272\n",
      "Kamaru Usman          170 lbs.  2213.001661\n",
      "Khabib Nurmagomedov   155 lbs.  2166.230410\n",
      "Henry Cejudo          135 lbs.  2130.602800\n",
      "Valentina Shevchenko  125 lbs.  2076.952879 \n",
      "\n",
      "\n",
      "                    Weight   Elo rating\n",
      "fighter_name                           \n",
      "Leonard Garcia    145 lbs.  1366.192047\n",
      "Vinicius Moreira  205 lbs.  1375.204540\n",
      "Steve Cantwell    185 lbs.  1375.706987\n",
      "Josh Grispi       145 lbs.  1379.492289\n",
      "Jodie Esquibel    115 lbs.  1379.520384\n",
      "Terrion Ware      135 lbs.  1381.107585\n",
      "Edgar Garcia      170 lbs.  1381.219983\n",
      "Kailin Curran     115 lbs.  1384.725139\n",
      "Andy Ogle         145 lbs.  1384.936485\n",
      "Naoyuki Kotani    155 lbs.  1385.400472\n"
     ]
    }
   ],
   "source": [
    "fdets_copy = fighter_details.copy()\n",
    "test_elo(fdets_copy, 72, 200, 2)"
   ]
  },
  {
   "cell_type": "code",
   "execution_count": 17,
   "metadata": {},
   "outputs": [
    {
     "data": {
      "text/html": [
       "<div>\n",
       "<style scoped>\n",
       "    .dataframe tbody tr th:only-of-type {\n",
       "        vertical-align: middle;\n",
       "    }\n",
       "\n",
       "    .dataframe tbody tr th {\n",
       "        vertical-align: top;\n",
       "    }\n",
       "\n",
       "    .dataframe thead th {\n",
       "        text-align: right;\n",
       "    }\n",
       "</style>\n",
       "<table border=\"1\" class=\"dataframe\">\n",
       "  <thead>\n",
       "    <tr style=\"text-align: right;\">\n",
       "      <th></th>\n",
       "      <th>Weight</th>\n",
       "      <th>Elo rating</th>\n",
       "    </tr>\n",
       "    <tr>\n",
       "      <th>fighter_name</th>\n",
       "      <th></th>\n",
       "      <th></th>\n",
       "    </tr>\n",
       "  </thead>\n",
       "  <tbody>\n",
       "    <tr>\n",
       "      <th>Ricardo Abreu</th>\n",
       "      <td>185.0</td>\n",
       "      <td>1500</td>\n",
       "    </tr>\n",
       "    <tr>\n",
       "      <th>Papy Abedi</th>\n",
       "      <td>185.0</td>\n",
       "      <td>1500</td>\n",
       "    </tr>\n",
       "    <tr>\n",
       "      <th>Klidson Abreu</th>\n",
       "      <td>205.0</td>\n",
       "      <td>1500</td>\n",
       "    </tr>\n",
       "    <tr>\n",
       "      <th>Shamil Abdurakhimov</th>\n",
       "      <td>235.0</td>\n",
       "      <td>1500</td>\n",
       "    </tr>\n",
       "    <tr>\n",
       "      <th>Daniel Acacio</th>\n",
       "      <td>180.0</td>\n",
       "      <td>1500</td>\n",
       "    </tr>\n",
       "  </tbody>\n",
       "</table>\n",
       "</div>"
      ],
      "text/plain": [
       "                     Weight  Elo rating\n",
       "fighter_name                           \n",
       "Ricardo Abreu         185.0        1500\n",
       "Papy Abedi            185.0        1500\n",
       "Klidson Abreu         205.0        1500\n",
       "Shamil Abdurakhimov   235.0        1500\n",
       "Daniel Acacio         180.0        1500"
      ]
     },
     "execution_count": 17,
     "metadata": {},
     "output_type": "execute_result"
    }
   ],
   "source": [
    "fd_copy = fighter_details.copy()\n",
    "fd_copy[\"Weight\"] = fd_copy[\"Weight\"].str.replace(\" lbs.\",\"\").astype(float)\n",
    "fd_copy.head()"
   ]
  },
  {
   "cell_type": "markdown",
   "metadata": {},
   "source": [
    "### TODOS:\n",
    "- PEP neki prati\n",
    "- neki grafovi\n",
    "- malo izvrti još ovo (vidi sto bude najsmislenije)"
   ]
  },
  {
   "cell_type": "code",
   "execution_count": 18,
   "metadata": {},
   "outputs": [
    {
     "name": "stdout",
     "output_type": "stream",
     "text": [
      "Requirement already satisfied: beautifulsoup4 in c:\\users\\kbasi\\anaconda3\\lib\\site-packages (4.9.3)\n",
      "Requirement already satisfied: soupsieve>1.2; python_version >= \"3.0\" in c:\\users\\kbasi\\anaconda3\\lib\\site-packages (from beautifulsoup4) (2.0.1)\n",
      "Requirement already satisfied: requests in c:\\users\\kbasi\\anaconda3\\lib\\site-packages (2.24.0)\n",
      "Requirement already satisfied: chardet<4,>=3.0.2 in c:\\users\\kbasi\\anaconda3\\lib\\site-packages (from requests) (3.0.4)\n",
      "Requirement already satisfied: certifi>=2017.4.17 in c:\\users\\kbasi\\anaconda3\\lib\\site-packages (from requests) (2020.6.20)\n",
      "Requirement already satisfied: idna<3,>=2.5 in c:\\users\\kbasi\\anaconda3\\lib\\site-packages (from requests) (2.10)\n",
      "Requirement already satisfied: urllib3!=1.25.0,!=1.25.1,<1.26,>=1.21.1 in c:\\users\\kbasi\\anaconda3\\lib\\site-packages (from requests) (1.25.11)\n"
     ]
    }
   ],
   "source": [
    "#install usupported libraries\n",
    "import sys\n",
    "!{sys.executable} -m pip install beautifulsoup4\n",
    "!{sys.executable} -m pip install requests"
   ]
  },
  {
   "cell_type": "code",
   "execution_count": 19,
   "metadata": {},
   "outputs": [],
   "source": [
    "import requests\n",
    "from bs4 import BeautifulSoup"
   ]
  },
  {
   "cell_type": "code",
   "execution_count": 20,
   "metadata": {},
   "outputs": [],
   "source": [
    "def web_scrape(url, identifier, container):\n",
    "    page = requests.get(url)\n",
    "    soup = BeautifulSoup(page.content, \"html.parser\")\n",
    "    results = soup.find_all(container, class_ = identifier)\n",
    "    for result in results:\n",
    "        print(result.text.strip())"
   ]
  },
  {
   "cell_type": "code",
   "execution_count": 21,
   "metadata": {},
   "outputs": [
    {
     "name": "stdout",
     "output_type": "stream",
     "text": [
      "1617439457\n"
     ]
    }
   ],
   "source": [
    "web_scrape(\"https://www.unixtimestamp.com/\", \"value epoch\", \"div\")"
   ]
  },
  {
   "cell_type": "code",
   "execution_count": 22,
   "metadata": {},
   "outputs": [
    {
     "name": "stdout",
     "output_type": "stream",
     "text": [
      "Natječaji za stipendije francuske vlade 2021/2022\n",
      "Potvrde o diplomiranju\n",
      "BEST Zagreb - Obavijest o primanju novih članova i uvodnom sastanku\n",
      "Udruga CISEx, u suradnji s udrugom CroAI, pokreće hrvatsku AI ligu\n",
      "Natječaj za dodjelu Rektorove nagrade za ak. god. 2020./21.\n",
      "Važna obavijest studentima (28.01.)\n",
      "PMF priprema prvi studij u Hrvatskoj iz biomedicinske matematike\n"
     ]
    }
   ],
   "source": [
    "web_scrape(\"http://www.pmf.unizg.hr/math\", [\"news_article_title\", \"news_short_title\"], \"div\")"
   ]
  }
 ],
 "metadata": {
  "kernelspec": {
   "display_name": "Python 3",
   "language": "python",
   "name": "python3"
  },
  "language_info": {
   "codemirror_mode": {
    "name": "ipython",
    "version": 3
   },
   "file_extension": ".py",
   "mimetype": "text/x-python",
   "name": "python",
   "nbconvert_exporter": "python",
   "pygments_lexer": "ipython3",
   "version": "3.8.5"
  }
 },
 "nbformat": 4,
 "nbformat_minor": 5
}
